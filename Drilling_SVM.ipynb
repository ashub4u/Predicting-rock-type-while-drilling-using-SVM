{
 "cells": [
  {
   "cell_type": "markdown",
   "id": "52c27db9",
   "metadata": {},
   "source": [
    "# SVM model to predict rock type while drilling along drill hole\n",
    "\n",
    "Using SVM to build and train a model using drilling dataset, and classify the rock mass as hard (1) or soft (0) formation.\n",
    "\n",
    "SVM works by mapping data to a high-dimensional feature space so that data points can be categorized, even when the data are not otherwise linearly separable (This gets done by Kernel funtion of SVM classifier). A separator between the categories is found, then data is transformed in such a way that the separator could be drawn as a hyperplane."
   ]
  },
  {
   "cell_type": "markdown",
   "id": "d900eb68",
   "metadata": {},
   "source": [
    "# Necessary Imports"
   ]
  },
  {
   "cell_type": "code",
   "execution_count": 1,
   "id": "f641ed1c",
   "metadata": {},
   "outputs": [],
   "source": [
    "import pandas as pd\n",
    "import numpy as np\n",
    "import matplotlib.pyplot as plt"
   ]
  },
  {
   "cell_type": "markdown",
   "id": "b2db3eef",
   "metadata": {},
   "source": [
    "# Loading CSV file"
   ]
  },
  {
   "cell_type": "code",
   "execution_count": 2,
   "id": "d829b8e5",
   "metadata": {},
   "outputs": [
    {
     "data": {
      "text/html": [
       "<div>\n",
       "<style scoped>\n",
       "    .dataframe tbody tr th:only-of-type {\n",
       "        vertical-align: middle;\n",
       "    }\n",
       "\n",
       "    .dataframe tbody tr th {\n",
       "        vertical-align: top;\n",
       "    }\n",
       "\n",
       "    .dataframe thead th {\n",
       "        text-align: right;\n",
       "    }\n",
       "</style>\n",
       "<table border=\"1\" class=\"dataframe\">\n",
       "  <thead>\n",
       "    <tr style=\"text-align: right;\">\n",
       "      <th></th>\n",
       "      <th>Depth (m)</th>\n",
       "      <th>Rotary Speed (RPM)</th>\n",
       "      <th>Bit Load (N/100)</th>\n",
       "      <th>Torque (N.cm)</th>\n",
       "      <th>ROP (cm/min)</th>\n",
       "      <th>Hard Rock</th>\n",
       "    </tr>\n",
       "  </thead>\n",
       "  <tbody>\n",
       "    <tr>\n",
       "      <th>0</th>\n",
       "      <td>0.1</td>\n",
       "      <td>40.9972</td>\n",
       "      <td>146.8531</td>\n",
       "      <td>79.0698</td>\n",
       "      <td>26.3889</td>\n",
       "      <td>0</td>\n",
       "    </tr>\n",
       "    <tr>\n",
       "      <th>1</th>\n",
       "      <td>0.2</td>\n",
       "      <td>39.0582</td>\n",
       "      <td>146.8531</td>\n",
       "      <td>75.3488</td>\n",
       "      <td>20.1389</td>\n",
       "      <td>0</td>\n",
       "    </tr>\n",
       "    <tr>\n",
       "      <th>2</th>\n",
       "      <td>0.3</td>\n",
       "      <td>44.3213</td>\n",
       "      <td>178.3216</td>\n",
       "      <td>85.5814</td>\n",
       "      <td>13.1944</td>\n",
       "      <td>0</td>\n",
       "    </tr>\n",
       "    <tr>\n",
       "      <th>3</th>\n",
       "      <td>0.4</td>\n",
       "      <td>49.3075</td>\n",
       "      <td>216.7833</td>\n",
       "      <td>90.2326</td>\n",
       "      <td>22.9167</td>\n",
       "      <td>0</td>\n",
       "    </tr>\n",
       "    <tr>\n",
       "      <th>4</th>\n",
       "      <td>0.5</td>\n",
       "      <td>52.3546</td>\n",
       "      <td>248.2519</td>\n",
       "      <td>107.9070</td>\n",
       "      <td>38.1944</td>\n",
       "      <td>0</td>\n",
       "    </tr>\n",
       "    <tr>\n",
       "      <th>...</th>\n",
       "      <td>...</td>\n",
       "      <td>...</td>\n",
       "      <td>...</td>\n",
       "      <td>...</td>\n",
       "      <td>...</td>\n",
       "      <td>...</td>\n",
       "    </tr>\n",
       "    <tr>\n",
       "      <th>169</th>\n",
       "      <td>17.0</td>\n",
       "      <td>50.9488</td>\n",
       "      <td>490.8191</td>\n",
       "      <td>158.8966</td>\n",
       "      <td>102.6827</td>\n",
       "      <td>0</td>\n",
       "    </tr>\n",
       "    <tr>\n",
       "      <th>170</th>\n",
       "      <td>17.1</td>\n",
       "      <td>51.2577</td>\n",
       "      <td>507.4815</td>\n",
       "      <td>152.1008</td>\n",
       "      <td>96.2780</td>\n",
       "      <td>0</td>\n",
       "    </tr>\n",
       "    <tr>\n",
       "      <th>171</th>\n",
       "      <td>17.2</td>\n",
       "      <td>63.0348</td>\n",
       "      <td>459.7552</td>\n",
       "      <td>157.0889</td>\n",
       "      <td>98.6268</td>\n",
       "      <td>0</td>\n",
       "    </tr>\n",
       "    <tr>\n",
       "      <th>172</th>\n",
       "      <td>17.3</td>\n",
       "      <td>57.2084</td>\n",
       "      <td>475.8639</td>\n",
       "      <td>151.9261</td>\n",
       "      <td>101.6973</td>\n",
       "      <td>0</td>\n",
       "    </tr>\n",
       "    <tr>\n",
       "      <th>173</th>\n",
       "      <td>17.4</td>\n",
       "      <td>59.1469</td>\n",
       "      <td>452.3612</td>\n",
       "      <td>155.7455</td>\n",
       "      <td>104.3441</td>\n",
       "      <td>0</td>\n",
       "    </tr>\n",
       "  </tbody>\n",
       "</table>\n",
       "<p>174 rows × 6 columns</p>\n",
       "</div>"
      ],
      "text/plain": [
       "     Depth (m)  Rotary Speed (RPM)  Bit Load (N/100)  Torque (N.cm)  \\\n",
       "0          0.1             40.9972          146.8531        79.0698   \n",
       "1          0.2             39.0582          146.8531        75.3488   \n",
       "2          0.3             44.3213          178.3216        85.5814   \n",
       "3          0.4             49.3075          216.7833        90.2326   \n",
       "4          0.5             52.3546          248.2519       107.9070   \n",
       "..         ...                 ...               ...            ...   \n",
       "169       17.0             50.9488          490.8191       158.8966   \n",
       "170       17.1             51.2577          507.4815       152.1008   \n",
       "171       17.2             63.0348          459.7552       157.0889   \n",
       "172       17.3             57.2084          475.8639       151.9261   \n",
       "173       17.4             59.1469          452.3612       155.7455   \n",
       "\n",
       "     ROP (cm/min)  Hard Rock  \n",
       "0         26.3889          0  \n",
       "1         20.1389          0  \n",
       "2         13.1944          0  \n",
       "3         22.9167          0  \n",
       "4         38.1944          0  \n",
       "..            ...        ...  \n",
       "169      102.6827          0  \n",
       "170       96.2780          0  \n",
       "171       98.6268          0  \n",
       "172      101.6973          0  \n",
       "173      104.3441          0  \n",
       "\n",
       "[174 rows x 6 columns]"
      ]
     },
     "execution_count": 2,
     "metadata": {},
     "output_type": "execute_result"
    }
   ],
   "source": [
    "data=pd.read_csv('drill_data.csv')\n",
    "data\n",
    "\n",
    "# Feature 'Hard Rock' is used to tell whether the rock mass is categorized under hard formation or not, which is 1 o/w 0."
   ]
  },
  {
   "cell_type": "code",
   "execution_count": 3,
   "id": "54f73851",
   "metadata": {},
   "outputs": [
    {
     "name": "stdout",
     "output_type": "stream",
     "text": [
      "(174, 6)\n",
      "1044\n",
      "Depth (m)             174\n",
      "Rotary Speed (RPM)    174\n",
      "Bit Load (N/100)      174\n",
      "Torque (N.cm)         174\n",
      "ROP (cm/min)          174\n",
      "Hard Rock             174\n",
      "dtype: int64\n"
     ]
    }
   ],
   "source": [
    "print(data.shape)\n",
    "print(data.size)\n",
    "print(data.count())"
   ]
  },
  {
   "cell_type": "code",
   "execution_count": 4,
   "id": "94487566",
   "metadata": {},
   "outputs": [
    {
     "data": {
      "text/plain": [
       "0    146\n",
       "1     28\n",
       "Name: Hard Rock, dtype: int64"
      ]
     },
     "execution_count": 4,
     "metadata": {},
     "output_type": "execute_result"
    }
   ],
   "source": [
    "data['Hard Rock'].value_counts()"
   ]
  },
  {
   "cell_type": "markdown",
   "id": "6b926864",
   "metadata": {},
   "source": [
    "# Distribution of the classes"
   ]
  },
  {
   "cell_type": "code",
   "execution_count": 5,
   "id": "8613085c",
   "metadata": {},
   "outputs": [
    {
     "data": {
      "image/png": "[encoded data removed]",
      "text/plain": [
       "<Figure size 640x480 with 1 Axes>"
      ]
     },
     "metadata": {},
     "output_type": "display_data"
    }
   ],
   "source": [
    "hard_data=data[data['Hard Rock']==1]\n",
    "soft_data=data[data['Hard Rock']==0]\n",
    "\n",
    "axes=hard_data.plot(kind='scatter',x='Rotary Speed (RPM)',y='ROP (cm/min)',color='blue',label='Hard')\n",
    "axes=soft_data.plot(kind='scatter',x='Rotary Speed (RPM)',y='ROP (cm/min)',color='red',label='Soft',ax=axes)"
   ]
  },
  {
   "cell_type": "markdown",
   "id": "3919d8bd",
   "metadata": {},
   "source": [
    "# Identifying unwanted rows\n",
    "\n",
    "Rows having data type as object can be either removed or transformed into numberical datatypes."
   ]
  },
  {
   "cell_type": "code",
   "execution_count": 6,
   "id": "be96edfb",
   "metadata": {},
   "outputs": [
    {
     "data": {
      "text/plain": [
       "Depth (m)             float64\n",
       "Rotary Speed (RPM)    float64\n",
       "Bit Load (N/100)      float64\n",
       "Torque (N.cm)         float64\n",
       "ROP (cm/min)          float64\n",
       "Hard Rock               int64\n",
       "dtype: object"
      ]
     },
     "execution_count": 6,
     "metadata": {},
     "output_type": "execute_result"
    }
   ],
   "source": [
    "data.dtypes"
   ]
  },
  {
   "cell_type": "markdown",
   "id": "9721ea1a",
   "metadata": {},
   "source": [
    "# Remove unwanted columns"
   ]
  },
  {
   "cell_type": "code",
   "execution_count": 7,
   "id": "a8910e42",
   "metadata": {},
   "outputs": [
    {
     "data": {
      "text/plain": [
       "array([[ 40.9972, 146.8531,  79.0698,  26.3889],\n",
       "       [ 39.0582, 146.8531,  75.3488,  20.1389],\n",
       "       [ 44.3213, 178.3216,  85.5814,  13.1944],\n",
       "       [ 49.3075, 216.7833,  90.2326,  22.9167],\n",
       "       [ 52.3546, 248.2519, 107.907 ,  38.1944]])"
      ]
     },
     "execution_count": 7,
     "metadata": {},
     "output_type": "execute_result"
    }
   ],
   "source": [
    "data.columns\n",
    "\n",
    "feature_df=data[['Rotary Speed (RPM)', 'Bit Load (N/100)', 'Torque (N.cm)',\n",
    "       'ROP (cm/min)']]\n",
    "\n",
    "#x - independent variables\n",
    "x=np.asarray(feature_df)\n",
    "#y - dependent variables\n",
    "y=np.asarray(data['Hard Rock'])\n",
    "\n",
    "x[0:5]"
   ]
  },
  {
   "cell_type": "markdown",
   "id": "b05fcf04",
   "metadata": {},
   "source": [
    "# Divide the data as Train/Test dataset"
   ]
  },
  {
   "cell_type": "code",
   "execution_count": 8,
   "id": "9707efcf",
   "metadata": {},
   "outputs": [
    {
     "data": {
      "text/plain": [
       "(139, 4)"
      ]
     },
     "execution_count": 8,
     "metadata": {},
     "output_type": "execute_result"
    }
   ],
   "source": [
    "# data -> train (80%)/test (20%)\n",
    "#train (x,y) - x itself is 2D array and y is 1D\n",
    "#test (x,y)\n",
    "\n",
    "from sklearn.model_selection import train_test_split\n",
    "\n",
    "x_train,x_test,y_train,y_test=train_test_split(x,y,test_size=0.2,random_state=4)\n",
    "x_train.shape"
   ]
  },
  {
   "cell_type": "code",
   "execution_count": 9,
   "id": "db0d5d75",
   "metadata": {},
   "outputs": [
    {
     "data": {
      "text/plain": [
       "(139,)"
      ]
     },
     "execution_count": 9,
     "metadata": {},
     "output_type": "execute_result"
    }
   ],
   "source": [
    "y_train.shape"
   ]
  },
  {
   "cell_type": "code",
   "execution_count": 10,
   "id": "a9ea06d4",
   "metadata": {},
   "outputs": [
    {
     "data": {
      "text/plain": [
       "(35, 4)"
      ]
     },
     "execution_count": 10,
     "metadata": {},
     "output_type": "execute_result"
    }
   ],
   "source": [
    "x_test.shape"
   ]
  },
  {
   "cell_type": "code",
   "execution_count": 11,
   "id": "8c414f55",
   "metadata": {},
   "outputs": [
    {
     "data": {
      "text/plain": [
       "(35,)"
      ]
     },
     "execution_count": 11,
     "metadata": {},
     "output_type": "execute_result"
    }
   ],
   "source": [
    "y_test.shape"
   ]
  },
  {
   "cell_type": "code",
   "execution_count": 12,
   "id": "26367729",
   "metadata": {},
   "outputs": [
    {
     "data": {
      "text/plain": [
       "array([[ 44.3213, 178.3216,  85.5814,  13.1944],\n",
       "       [ 79.1605, 606.086 , 164.4443, 115.2707],\n",
       "       [ 72.3734, 627.2269, 151.8889,  88.877 ],\n",
       "       [ 82.5485, 576.9228, 182.3256,  93.75  ],\n",
       "       [ 83.6565, 597.9018, 188.8372, 101.3889],\n",
       "       [ 66.4016, 585.7993, 151.4126,  92.3292],\n",
       "       [ 79.6836, 619.1494, 166.1748, 104.3333],\n",
       "       [ 58.1718, 283.2167,  97.6744,  35.4167],\n",
       "       [ 70.3265, 585.7795, 164.0449, 105.994 ],\n",
       "       [ 81.7174, 590.9089, 197.2093, 109.0277],\n",
       "       [ 82.8255, 587.4123, 181.3954,  90.9722],\n",
       "       [ 66.8831, 527.5994, 159.5082, 103.3929],\n",
       "       [ 59.1469, 452.3612, 155.7455, 104.3441],\n",
       "       [ 72.4916, 604.1231, 166.0851, 105.0632],\n",
       "       [ 75.6233, 447.5525, 180.4651,  92.3611],\n",
       "       [ 79.7784, 576.9228, 171.1628, 122.2222],\n",
       "       [ 63.616 , 458.4572, 159.6595, 104.4312],\n",
       "       [ 69.5775, 565.9327, 154.4157,  99.3185],\n",
       "       [ 76.8156, 648.6434, 158.2462,  96.5283],\n",
       "       [ 65.1361, 527.3043, 154.959 , 112.2094],\n",
       "       [ 81.1634, 597.9018, 178.6047,  92.3611],\n",
       "       [ 72.0222, 435.1986, 161.8605,  82.6389],\n",
       "       [ 78.2554, 631.8143, 158.7012,  98.4176],\n",
       "       [ 65.9007, 581.1416, 168.5389, 107.6643],\n",
       "       [ 73.5804, 643.8053, 157.4923, 104.9703],\n",
       "       [ 72.911 , 564.3565, 167.247 , 106.7677],\n",
       "       [ 66.7591, 631.4937, 160.5505,  87.8989],\n",
       "       [ 82.2715, 590.9089, 166.5116,  88.8889],\n",
       "       [ 74.17  , 599.319 , 169.516 , 105.7593],\n",
       "       [ 71.4646, 556.0362, 169.2609, 104.7158],\n",
       "       [ 66.1377, 593.0723, 159.736 ,  92.0135],\n",
       "       [ 72.6137, 570.3381, 156.9217, 101.1605],\n",
       "       [ 83.3795, 629.3704, 227.907 , 134.0277],\n",
       "       [ 67.1662, 505.892 , 159.4634, 101.4847],\n",
       "       [ 83.3795, 601.3985, 200.    ,  90.2777],\n",
       "       [ 69.6914, 615.6531, 177.4093, 100.2749],\n",
       "       [ 81.7174, 594.4056, 175.814 , 105.5555],\n",
       "       [ 73.0155, 470.36  , 159.5161, 102.4321],\n",
       "       [ 69.8329, 515.1181, 153.7596, 104.9866],\n",
       "       [ 82.5485, 597.9018, 164.6512,  96.5277],\n",
       "       [ 81.9945, 601.3985, 188.8372, 136.8055],\n",
       "       [ 83.1025, 590.9089, 192.5582,  80.5555],\n",
       "       [ 66.3012, 568.5798, 150.4019, 109.6972],\n",
       "       [ 67.27  , 580.7197, 154.7819,  96.6264],\n",
       "       [ 72.4147, 548.1999, 159.9784, 109.512 ],\n",
       "       [ 57.2084, 475.8639, 151.9261, 101.6973],\n",
       "       [ 82.8255, 597.9018, 182.3256,  84.7222],\n",
       "       [ 63.9889, 346.1537, 126.5117,  56.25  ],\n",
       "       [ 70.3601, 416.084 , 153.4884,  80.5555],\n",
       "       [ 79.199 , 621.166 , 156.7406,  97.0444],\n",
       "       [ 78.3933, 541.958 , 181.3954,  90.9722],\n",
       "       [ 82.8255, 580.4194, 170.2326, 102.0833],\n",
       "       [ 70.9043, 515.8725, 159.0384, 100.6712],\n",
       "       [ 82.2715, 594.4056, 168.3721,  87.5   ],\n",
       "       [ 81.9945, 601.3985, 186.0465,  98.6111],\n",
       "       [ 77.8393, 569.9299, 161.8605, 100.    ],\n",
       "       [ 76.5332, 548.9058, 178.497 , 118.232 ],\n",
       "       [ 78.443 , 625.3156, 179.0213, 101.2129],\n",
       "       [ 69.4371, 532.1948, 153.0737, 100.6076],\n",
       "       [ 83.3795, 590.9089, 172.093 ,  86.1111],\n",
       "       [ 78.7596, 532.952 , 177.3031, 106.1525],\n",
       "       [ 83.3795, 608.3913, 162.7907,  88.1944],\n",
       "       [ 73.2454, 567.9883, 170.4698, 102.4445],\n",
       "       [ 84.4875, 604.8951, 177.6744,  79.1667],\n",
       "       [ 66.0039, 535.6559, 154.8031,  99.252 ],\n",
       "       [ 76.2488, 513.7169, 155.6603,  96.3947],\n",
       "       [ 75.8666, 611.8812, 173.7893, 140.0432],\n",
       "       [ 82.5485, 597.9018, 174.8837,  84.7222],\n",
       "       [ 83.6565, 594.4056, 176.7442,  78.4722],\n",
       "       [ 81.9945, 594.4056, 176.7442,  89.5833],\n",
       "       [ 68.421 , 388.1117, 134.8838,  73.6111],\n",
       "       [ 64.5429, 444.9032, 167.4419,  97.2222],\n",
       "       [ 83.3795, 559.4404, 200.9303, 127.0833],\n",
       "       [ 82.2715, 594.4056, 166.5116,  80.5555],\n",
       "       [ 82.8255, 580.4194, 210.2326,  77.0833],\n",
       "       [ 75.732 , 571.1988, 169.3311, 109.8457],\n",
       "       [ 70.1195, 510.0832, 160.6705,  94.489 ],\n",
       "       [ 65.6714, 631.1075, 156.8054,  93.7553],\n",
       "       [ 70.0449, 620.3012, 154.9505, 149.9109],\n",
       "       [ 52.3546, 248.2519, 107.907 ,  38.1944],\n",
       "       [ 73.0559, 647.5467, 159.8791, 103.3775],\n",
       "       [ 77.6757, 615.5392, 162.5303, 109.3715],\n",
       "       [ 56.4046, 485.7383, 150.8455,  96.2937],\n",
       "       [ 81.9945, 608.3913, 167.4419,  86.1111],\n",
       "       [ 73.0092, 529.6692, 173.9972, 101.7488],\n",
       "       [ 83.3795, 580.4194, 172.093 ,  87.5   ],\n",
       "       [ 82.2715, 597.9018, 180.4651,  83.3333],\n",
       "       [ 66.9967, 527.0436, 163.083 , 138.7025],\n",
       "       [ 66.759 , 356.6432, 143.2559,  64.5833],\n",
       "       [ 82.8255, 604.8951, 176.7442,  85.4167],\n",
       "       [ 74.8806, 514.0284, 164.9208, 104.3945],\n",
       "       [ 81.9945, 608.3913, 180.4651,  91.6667],\n",
       "       [ 66.5676, 575.3048, 163.1654,  94.9395],\n",
       "       [ 82.2715, 615.3846, 173.0233,  96.5277],\n",
       "       [ 61.4959, 422.1256, 161.8605, 104.1667],\n",
       "       [ 79.2756, 595.3833, 159.3253, 103.3126],\n",
       "       [ 70.7233, 558.9196, 155.096 ,  99.4864],\n",
       "       [ 72.2427, 573.7215, 157.8818,  96.3137],\n",
       "       [ 83.3795, 576.9228, 198.1396, 109.0277],\n",
       "       [ 75.3463, 422.1223, 169.3023,  90.9722],\n",
       "       [ 83.6565, 580.4194, 209.3024, 116.6667],\n",
       "       [ 76.1745, 623.294 , 171.9618,  97.9658],\n",
       "       [ 83.3795, 465.0349, 172.093 ,  96.5277],\n",
       "       [ 50.9488, 490.8191, 158.8966, 102.6827],\n",
       "       [ 76.5189, 615.1718, 177.7131, 100.8393],\n",
       "       [ 77.6739, 597.9945, 174.1575, 109.8587],\n",
       "       [ 71.571 , 522.3174, 158.085 , 147.3512],\n",
       "       [ 74.5252, 572.888 , 161.058 , 148.9346],\n",
       "       [ 49.3075, 216.7833,  90.2326,  22.9167],\n",
       "       [ 78.8358, 527.9057, 158.634 ,  96.0891],\n",
       "       [ 81.9945, 569.9299, 194.4186,  86.8055],\n",
       "       [ 51.2577, 507.4815, 152.1008,  96.278 ],\n",
       "       [ 83.3795, 597.9018, 185.1163,  96.5277],\n",
       "       [ 83.1025, 597.9018, 198.1396,  83.3333],\n",
       "       [ 65.5614, 568.8679, 161.9582, 116.1108],\n",
       "       [ 83.1025, 580.4194, 202.7907,  84.7222],\n",
       "       [ 70.0079, 598.3227, 173.6449, 143.5903],\n",
       "       [ 82.5485, 594.4056, 170.2326, 102.7777],\n",
       "       [ 77.7555, 500.2272, 155.8799,  96.0444],\n",
       "       [ 84.2105, 611.888 , 217.6744, 126.3889],\n",
       "       [ 40.9972, 146.8531,  79.0698,  26.3889],\n",
       "       [ 76.0757, 568.9453, 168.0108,  97.5962],\n",
       "       [ 82.5485, 597.9018, 170.2326,  93.0555],\n",
       "       [ 65.2371, 551.8067, 175.4566, 114.4557],\n",
       "       [ 83.1025, 597.9018, 188.8372,  76.3889],\n",
       "       [ 82.5485, 597.9018, 171.1628, 116.6667],\n",
       "       [ 63.0348, 459.7552, 157.0889,  98.6268],\n",
       "       [ 82.2715, 601.3985, 173.0233, 110.4167],\n",
       "       [ 81.9945, 583.916 , 165.5814,  97.2222],\n",
       "       [ 68.6148, 605.6461, 162.0791,  89.7007],\n",
       "       [ 69.7698, 541.1266, 170.5515, 106.9518],\n",
       "       [ 68.2129, 516.9748, 165.0042, 106.1276],\n",
       "       [ 81.7174, 604.8951, 172.093 , 100.6944],\n",
       "       [ 72.9115, 548.8556, 160.2349, 113.2691],\n",
       "       [ 82.8255, 580.4194, 186.0465,  88.1944],\n",
       "       [ 74.8649, 624.395 , 159.1227, 104.2174],\n",
       "       [ 79.0731, 513.9274, 154.2308, 106.3959],\n",
       "       [ 71.5699, 611.1203, 169.8836,  98.9269],\n",
       "       [ 78.9124, 554.3759, 158.9829,  98.1456]])"
      ]
     },
     "execution_count": 12,
     "metadata": {},
     "output_type": "execute_result"
    }
   ],
   "source": [
    "x_train"
   ]
  },
  {
   "cell_type": "markdown",
   "id": "41d04067",
   "metadata": {},
   "source": [
    "# Modelling (SVM with Scikit-learn)\n",
    "\n",
    "The SVM algorithm offers a choice of kernel functions for performing its processing. Basically, mapping data into a higher dimension space is called kernelling. The mathematical function used for the transformation is known as the kernel funtion, and can be of different types, such as:\n",
    "\n",
    "1. Linear\n",
    "2. Polynomial\n",
    "3. Radial basis function (RBF)\n",
    "4. Sigmoid\n",
    "\n",
    "Each of these functions has its characteristics, its pros and cons, and its equation, but as there's no easy way of knowing which function performs best with any given dataset, we usually choose different functions in turn and compare the results. The one having the best accuracy is considered for the modelling."
   ]
  },
  {
   "cell_type": "code",
   "execution_count": 13,
   "id": "d02753dc",
   "metadata": {},
   "outputs": [],
   "source": [
    "from sklearn import svm\n",
    "\n",
    "classifier=svm.SVC(kernel='linear', gamma='auto',C=12)\n",
    "classifier.fit(x_train,y_train)\n",
    "\n",
    "y_predict=classifier.predict(x_test)"
   ]
  },
  {
   "cell_type": "code",
   "execution_count": 14,
   "id": "2cd76d93",
   "metadata": {},
   "outputs": [
    {
     "data": {
      "text/plain": [
       "array([0, 0, 0, 0, 0, 0, 1, 0, 0, 0, 1, 0, 0, 1, 0, 0, 0, 0, 1, 0, 0, 0,\n",
       "       0, 0, 0, 0, 0, 0, 0, 0, 1, 0, 0, 1, 1], dtype=int64)"
      ]
     },
     "execution_count": 14,
     "metadata": {},
     "output_type": "execute_result"
    }
   ],
   "source": [
    "y_predict"
   ]
  },
  {
   "cell_type": "code",
   "execution_count": 15,
   "id": "af2e4777",
   "metadata": {},
   "outputs": [
    {
     "name": "stdout",
     "output_type": "stream",
     "text": [
      "Acuuracy Score with linear kernel:\n",
      "0.9714285714285714\n"
     ]
    }
   ],
   "source": [
    "from sklearn import metrics\n",
    "print('Acuuracy Score with linear kernel:')\n",
    "\n",
    "print(metrics.accuracy_score(y_test,y_predict))"
   ]
  },
  {
   "cell_type": "code",
   "execution_count": 16,
   "id": "417b485c",
   "metadata": {},
   "outputs": [
    {
     "data": {
      "image/png": "[encoded data removed]",
      "text/plain": [
       "<Figure size 640x480 with 1 Axes>"
      ]
     },
     "metadata": {},
     "output_type": "display_data"
    }
   ],
   "source": [
    "plt.scatter(x_train[:,0],x_train[:,3],c=y_train)\n",
    "plt.xlabel('Rotary Speed (RPM)')\n",
    "plt.ylabel('ROP (cm/min)')\n",
    "plt.title('Train Data')\n",
    "plt.show()"
   ]
  },
  {
   "cell_type": "code",
   "execution_count": 17,
   "id": "106c5ab7",
   "metadata": {},
   "outputs": [
    {
     "data": {
      "image/png": "[encoded data removed]",
      "text/plain": [
       "<Figure size 640x480 with 1 Axes>"
      ]
     },
     "metadata": {},
     "output_type": "display_data"
    }
   ],
   "source": [
    "plt.scatter(x_test[:,0],x_test[:,3],c=y_test)\n",
    "plt.xlabel('Rotary Speed (RPM)')\n",
    "plt.ylabel('ROP (cm/min)')\n",
    "plt.title('Test Data')\n",
    "plt.show()"
   ]
  },
  {
   "cell_type": "markdown",
   "id": "a6c6a704",
   "metadata": {},
   "source": [
    "# Evaluation (Results)"
   ]
  },
  {
   "cell_type": "code",
   "execution_count": 18,
   "id": "b341f848",
   "metadata": {},
   "outputs": [
    {
     "name": "stdout",
     "output_type": "stream",
     "text": [
      "              precision    recall  f1-score   support\n",
      "\n",
      "           0       0.96      1.00      0.98        27\n",
      "           1       1.00      0.88      0.93         8\n",
      "\n",
      "    accuracy                           0.97        35\n",
      "   macro avg       0.98      0.94      0.96        35\n",
      "weighted avg       0.97      0.97      0.97        35\n",
      "\n"
     ]
    }
   ],
   "source": [
    "from sklearn.metrics import classification_report\n",
    "\n",
    "print(classification_report(y_test,y_predict))"
   ]
  },
  {
   "cell_type": "code",
   "execution_count": 21,
   "id": "48c78f89",
   "metadata": {},
   "outputs": [
    {
     "data": {
      "text/plain": [
       "array([0], dtype=int64)"
      ]
     },
     "execution_count": 21,
     "metadata": {},
     "output_type": "execute_result"
    }
   ],
   "source": [
    "classifier.predict([[64,150,100,44]])"
   ]
  },
  {
   "cell_type": "code",
   "execution_count": 20,
   "id": "fb337fae",
   "metadata": {},
   "outputs": [
    {
     "data": {
      "text/plain": [
       "array([1], dtype=int64)"
      ]
     },
     "execution_count": 20,
     "metadata": {},
     "output_type": "execute_result"
    }
   ],
   "source": [
    "classifier.predict([[112,123,111,120]])"
   ]
  },
  {
   "cell_type": "code",
   "execution_count": 45,
   "id": "8f41fc87",
   "metadata": {},
   "outputs": [
    {
     "data": {
      "text/plain": [
       "array([1], dtype=int64)"
      ]
     },
     "execution_count": 45,
     "metadata": {},
     "output_type": "execute_result"
    }
   ],
   "source": [
    "classifier.predict([[70,100,90,100]])"
   ]
  },
  {
   "cell_type": "code",
   "execution_count": 23,
   "id": "b8c558a8",
   "metadata": {},
   "outputs": [
    {
     "data": {
      "text/plain": [
       "array([0], dtype=int64)"
      ]
     },
     "execution_count": 23,
     "metadata": {},
     "output_type": "execute_result"
    }
   ],
   "source": [
    "classifier.predict([[45,111,90,88]])"
   ]
  },
  {
   "cell_type": "code",
   "execution_count": null,
   "id": "5269eb6f",
   "metadata": {},
   "outputs": [],
   "source": []
  }
 ],
 "metadata": {
  "kernelspec": {
   "display_name": "Python 3 (ipykernel)",
   "language": "python",
   "name": "python3"
  },
  "language_info": {
   "codemirror_mode": {
    "name": "ipython",
    "version": 3
   },
   "file_extension": ".py",
   "mimetype": "text/x-python",
   "name": "python",
   "nbconvert_exporter": "python",
   "pygments_lexer": "ipython3",
   "version": "3.9.13"
  }
 },
 "nbformat": 4,
 "nbformat_minor": 5
}
